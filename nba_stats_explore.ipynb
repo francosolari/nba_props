{
 "cells": [
  {
   "cell_type": "code",
   "id": "initial_id",
   "metadata": {
    "collapsed": true,
    "ExecuteTime": {
     "end_time": "2024-10-18T20:12:24.722034Z",
     "start_time": "2024-10-18T20:12:24.694475Z"
    }
   },
   "source": [
    "import json\n",
    "import os\n",
    "\n",
    "os.environ.setdefault('DJANGO_SETTINGS_MODULE', 'nba_predictions.settings')\n",
    "import django\n",
    "# \n",
    "django.setup()\n",
    "import pandas as pd\n",
    "from nba_api.stats.endpoints import playercareerstats\n",
    "from nba_api.live.nba.endpoints import scoreboard\n",
    "from nba_api.stats.static import teams, players\n",
    "from nba_api.stats.endpoints import \\\n",
    "    leaguestandingsv3, \\\n",
    "    leaguedashplayerstats, \\\n",
    "    leaguegamelog, \\\n",
    "    commonplayoffseries, \\\n",
    "    iststandings\n",
    "\n",
    "from predictions.models import Team, Season, Player, \\\n",
    "    RegularSeasonStandings, \\\n",
    "    InSeasonTournamentStandings, PostSeasonStandings"
   ],
   "outputs": [
    {
     "ename": "ModuleNotFoundError",
     "evalue": "No module named 'nba_predictions.settings'",
     "output_type": "error",
     "traceback": [
      "\u001B[0;31m---------------------------------------------------------------------------\u001B[0m",
      "\u001B[0;31mModuleNotFoundError\u001B[0m                       Traceback (most recent call last)",
      "Cell \u001B[0;32mIn[12], line 7\u001B[0m\n\u001B[1;32m      5\u001B[0m \u001B[38;5;28;01mimport\u001B[39;00m \u001B[38;5;21;01mdjango\u001B[39;00m\n\u001B[1;32m      6\u001B[0m \u001B[38;5;66;03m# \u001B[39;00m\n\u001B[0;32m----> 7\u001B[0m \u001B[43mdjango\u001B[49m\u001B[38;5;241;43m.\u001B[39;49m\u001B[43msetup\u001B[49m\u001B[43m(\u001B[49m\u001B[43m)\u001B[49m\n\u001B[1;32m      8\u001B[0m \u001B[38;5;28;01mimport\u001B[39;00m \u001B[38;5;21;01mpandas\u001B[39;00m \u001B[38;5;28;01mas\u001B[39;00m \u001B[38;5;21;01mpd\u001B[39;00m\n\u001B[1;32m      9\u001B[0m \u001B[38;5;28;01mfrom\u001B[39;00m \u001B[38;5;21;01mnba_api\u001B[39;00m\u001B[38;5;21;01m.\u001B[39;00m\u001B[38;5;21;01mstats\u001B[39;00m\u001B[38;5;21;01m.\u001B[39;00m\u001B[38;5;21;01mendpoints\u001B[39;00m \u001B[38;5;28;01mimport\u001B[39;00m playercareerstats\n",
      "File \u001B[0;32m~/miniconda3/envs/nba_props/lib/python3.10/site-packages/django/__init__.py:19\u001B[0m, in \u001B[0;36msetup\u001B[0;34m(set_prefix)\u001B[0m\n\u001B[1;32m     16\u001B[0m \u001B[38;5;28;01mfrom\u001B[39;00m \u001B[38;5;21;01mdjango\u001B[39;00m\u001B[38;5;21;01m.\u001B[39;00m\u001B[38;5;21;01murls\u001B[39;00m \u001B[38;5;28;01mimport\u001B[39;00m set_script_prefix\n\u001B[1;32m     17\u001B[0m \u001B[38;5;28;01mfrom\u001B[39;00m \u001B[38;5;21;01mdjango\u001B[39;00m\u001B[38;5;21;01m.\u001B[39;00m\u001B[38;5;21;01mutils\u001B[39;00m\u001B[38;5;21;01m.\u001B[39;00m\u001B[38;5;21;01mlog\u001B[39;00m \u001B[38;5;28;01mimport\u001B[39;00m configure_logging\n\u001B[0;32m---> 19\u001B[0m configure_logging(\u001B[43msettings\u001B[49m\u001B[38;5;241;43m.\u001B[39;49m\u001B[43mLOGGING_CONFIG\u001B[49m, settings\u001B[38;5;241m.\u001B[39mLOGGING)\n\u001B[1;32m     20\u001B[0m \u001B[38;5;28;01mif\u001B[39;00m set_prefix:\n\u001B[1;32m     21\u001B[0m     set_script_prefix(\n\u001B[1;32m     22\u001B[0m         \u001B[38;5;124m\"\u001B[39m\u001B[38;5;124m/\u001B[39m\u001B[38;5;124m\"\u001B[39m \u001B[38;5;28;01mif\u001B[39;00m settings\u001B[38;5;241m.\u001B[39mFORCE_SCRIPT_NAME \u001B[38;5;129;01mis\u001B[39;00m \u001B[38;5;28;01mNone\u001B[39;00m \u001B[38;5;28;01melse\u001B[39;00m settings\u001B[38;5;241m.\u001B[39mFORCE_SCRIPT_NAME\n\u001B[1;32m     23\u001B[0m     )\n",
      "File \u001B[0;32m~/miniconda3/envs/nba_props/lib/python3.10/site-packages/django/conf/__init__.py:102\u001B[0m, in \u001B[0;36mLazySettings.__getattr__\u001B[0;34m(self, name)\u001B[0m\n\u001B[1;32m    100\u001B[0m \u001B[38;5;250m\u001B[39m\u001B[38;5;124;03m\"\"\"Return the value of a setting and cache it in self.__dict__.\"\"\"\u001B[39;00m\n\u001B[1;32m    101\u001B[0m \u001B[38;5;28;01mif\u001B[39;00m (_wrapped \u001B[38;5;241m:=\u001B[39m \u001B[38;5;28mself\u001B[39m\u001B[38;5;241m.\u001B[39m_wrapped) \u001B[38;5;129;01mis\u001B[39;00m empty:\n\u001B[0;32m--> 102\u001B[0m     \u001B[38;5;28;43mself\u001B[39;49m\u001B[38;5;241;43m.\u001B[39;49m\u001B[43m_setup\u001B[49m\u001B[43m(\u001B[49m\u001B[43mname\u001B[49m\u001B[43m)\u001B[49m\n\u001B[1;32m    103\u001B[0m     _wrapped \u001B[38;5;241m=\u001B[39m \u001B[38;5;28mself\u001B[39m\u001B[38;5;241m.\u001B[39m_wrapped\n\u001B[1;32m    104\u001B[0m val \u001B[38;5;241m=\u001B[39m \u001B[38;5;28mgetattr\u001B[39m(_wrapped, name)\n",
      "File \u001B[0;32m~/miniconda3/envs/nba_props/lib/python3.10/site-packages/django/conf/__init__.py:89\u001B[0m, in \u001B[0;36mLazySettings._setup\u001B[0;34m(self, name)\u001B[0m\n\u001B[1;32m     81\u001B[0m     desc \u001B[38;5;241m=\u001B[39m (\u001B[38;5;124m\"\u001B[39m\u001B[38;5;124msetting \u001B[39m\u001B[38;5;132;01m%s\u001B[39;00m\u001B[38;5;124m\"\u001B[39m \u001B[38;5;241m%\u001B[39m name) \u001B[38;5;28;01mif\u001B[39;00m name \u001B[38;5;28;01melse\u001B[39;00m \u001B[38;5;124m\"\u001B[39m\u001B[38;5;124msettings\u001B[39m\u001B[38;5;124m\"\u001B[39m\n\u001B[1;32m     82\u001B[0m     \u001B[38;5;28;01mraise\u001B[39;00m ImproperlyConfigured(\n\u001B[1;32m     83\u001B[0m         \u001B[38;5;124m\"\u001B[39m\u001B[38;5;124mRequested \u001B[39m\u001B[38;5;132;01m%s\u001B[39;00m\u001B[38;5;124m, but settings are not configured. \u001B[39m\u001B[38;5;124m\"\u001B[39m\n\u001B[1;32m     84\u001B[0m         \u001B[38;5;124m\"\u001B[39m\u001B[38;5;124mYou must either define the environment variable \u001B[39m\u001B[38;5;132;01m%s\u001B[39;00m\u001B[38;5;124m \u001B[39m\u001B[38;5;124m\"\u001B[39m\n\u001B[1;32m     85\u001B[0m         \u001B[38;5;124m\"\u001B[39m\u001B[38;5;124mor call settings.configure() before accessing settings.\u001B[39m\u001B[38;5;124m\"\u001B[39m\n\u001B[1;32m     86\u001B[0m         \u001B[38;5;241m%\u001B[39m (desc, ENVIRONMENT_VARIABLE)\n\u001B[1;32m     87\u001B[0m     )\n\u001B[0;32m---> 89\u001B[0m \u001B[38;5;28mself\u001B[39m\u001B[38;5;241m.\u001B[39m_wrapped \u001B[38;5;241m=\u001B[39m \u001B[43mSettings\u001B[49m\u001B[43m(\u001B[49m\u001B[43msettings_module\u001B[49m\u001B[43m)\u001B[49m\n",
      "File \u001B[0;32m~/miniconda3/envs/nba_props/lib/python3.10/site-packages/django/conf/__init__.py:217\u001B[0m, in \u001B[0;36mSettings.__init__\u001B[0;34m(self, settings_module)\u001B[0m\n\u001B[1;32m    214\u001B[0m \u001B[38;5;66;03m# store the settings module in case someone later cares\u001B[39;00m\n\u001B[1;32m    215\u001B[0m \u001B[38;5;28mself\u001B[39m\u001B[38;5;241m.\u001B[39mSETTINGS_MODULE \u001B[38;5;241m=\u001B[39m settings_module\n\u001B[0;32m--> 217\u001B[0m mod \u001B[38;5;241m=\u001B[39m \u001B[43mimportlib\u001B[49m\u001B[38;5;241;43m.\u001B[39;49m\u001B[43mimport_module\u001B[49m\u001B[43m(\u001B[49m\u001B[38;5;28;43mself\u001B[39;49m\u001B[38;5;241;43m.\u001B[39;49m\u001B[43mSETTINGS_MODULE\u001B[49m\u001B[43m)\u001B[49m\n\u001B[1;32m    219\u001B[0m tuple_settings \u001B[38;5;241m=\u001B[39m (\n\u001B[1;32m    220\u001B[0m     \u001B[38;5;124m\"\u001B[39m\u001B[38;5;124mALLOWED_HOSTS\u001B[39m\u001B[38;5;124m\"\u001B[39m,\n\u001B[1;32m    221\u001B[0m     \u001B[38;5;124m\"\u001B[39m\u001B[38;5;124mINSTALLED_APPS\u001B[39m\u001B[38;5;124m\"\u001B[39m,\n\u001B[0;32m   (...)\u001B[0m\n\u001B[1;32m    224\u001B[0m     \u001B[38;5;124m\"\u001B[39m\u001B[38;5;124mSECRET_KEY_FALLBACKS\u001B[39m\u001B[38;5;124m\"\u001B[39m,\n\u001B[1;32m    225\u001B[0m )\n\u001B[1;32m    226\u001B[0m \u001B[38;5;28mself\u001B[39m\u001B[38;5;241m.\u001B[39m_explicit_settings \u001B[38;5;241m=\u001B[39m \u001B[38;5;28mset\u001B[39m()\n",
      "File \u001B[0;32m~/miniconda3/envs/nba_props/lib/python3.10/importlib/__init__.py:126\u001B[0m, in \u001B[0;36mimport_module\u001B[0;34m(name, package)\u001B[0m\n\u001B[1;32m    124\u001B[0m             \u001B[38;5;28;01mbreak\u001B[39;00m\n\u001B[1;32m    125\u001B[0m         level \u001B[38;5;241m+\u001B[39m\u001B[38;5;241m=\u001B[39m \u001B[38;5;241m1\u001B[39m\n\u001B[0;32m--> 126\u001B[0m \u001B[38;5;28;01mreturn\u001B[39;00m \u001B[43m_bootstrap\u001B[49m\u001B[38;5;241;43m.\u001B[39;49m\u001B[43m_gcd_import\u001B[49m\u001B[43m(\u001B[49m\u001B[43mname\u001B[49m\u001B[43m[\u001B[49m\u001B[43mlevel\u001B[49m\u001B[43m:\u001B[49m\u001B[43m]\u001B[49m\u001B[43m,\u001B[49m\u001B[43m \u001B[49m\u001B[43mpackage\u001B[49m\u001B[43m,\u001B[49m\u001B[43m \u001B[49m\u001B[43mlevel\u001B[49m\u001B[43m)\u001B[49m\n",
      "File \u001B[0;32m<frozen importlib._bootstrap>:1050\u001B[0m, in \u001B[0;36m_gcd_import\u001B[0;34m(name, package, level)\u001B[0m\n",
      "File \u001B[0;32m<frozen importlib._bootstrap>:1027\u001B[0m, in \u001B[0;36m_find_and_load\u001B[0;34m(name, import_)\u001B[0m\n",
      "File \u001B[0;32m<frozen importlib._bootstrap>:1004\u001B[0m, in \u001B[0;36m_find_and_load_unlocked\u001B[0;34m(name, import_)\u001B[0m\n",
      "\u001B[0;31mModuleNotFoundError\u001B[0m: No module named 'nba_predictions.settings'"
     ]
    }
   ],
   "execution_count": 12
  },
  {
   "metadata": {
    "ExecuteTime": {
     "end_time": "2024-10-18T20:11:03.529883Z",
     "start_time": "2024-10-18T20:11:03.525785Z"
    }
   },
   "cell_type": "code",
   "source": [
    "def fetch_ist_standings(season):\n",
    "    \"\"\"\n",
    "    Function to fetch and update in season tournament standings\n",
    "    :return:\n",
    "    \"\"\"\n",
    "    season = Season.objects.get(slug=season)  # Assuming 'name' is the field that stores the season name\n",
    "    ist_standings = {}\n",
    "    ist = iststandings.ISTStandings(season=season).get_data_frames()[0]\n",
    "\n",
    "    for team in ist['teamName'].unique():\n",
    "        team_name = f\"{ist.loc[ist['teamName'] == team, 'teamCity'].values[0]}\" \\\n",
    "                    f\" {ist.loc[ist['teamName'] == team, 'teamName'].values[0]}\"\n",
    "        team_object = Team.objects.get(name=team_name)\n",
    "        team_ist_stats = {\n",
    "            'ist_group': ist.loc[ist['teamName'] == team, 'istGroup'].values[0],\n",
    "            'wins': ist.loc[ist['teamName'] == team, 'wins'].values[0],\n",
    "            'losses': ist.loc[ist['teamName'] == team, 'losses'].values[0],\n",
    "            'ist_differential': ist.loc[ist['teamName'] == team, 'diff'].values[0],\n",
    "            'ist_points': ist.loc[ist['teamName'] == team, 'pts'].values[0],\n",
    "            'ist_group_rank': ist.loc[ist['teamName'] == team, 'istGroupRank'].values[0],\n",
    "            'ist_group_gb': ist.loc[ist['teamName'] == team, 'istGroupGb'].values[0],\n",
    "            'ist_wildcard_rank': ist.loc[ist['teamName'] == team, 'istWildcardRank'].values[0],\n",
    "            'ist_wildcard_gb': ist.loc[ist['teamName'] == team, 'istWildcardGb'].fillna(0).values[0],\n",
    "            'ist_knockout_rank': ist.loc[ist['teamName'] == team, 'istKnockoutRank'].fillna(0).values[0]\n",
    "        }\n",
    "        ist_standings[team_name] = team_ist_stats\n",
    "        # Update or create the InSeasonTournamentStandings object for the team\n",
    "        InSeasonTournamentStandings.objects.update_or_create(\n",
    "            team=team_object,\n",
    "            season=season,\n",
    "            season_type='ist',\n",
    "            defaults=team_ist_stats\n",
    "        )\n",
    "\n",
    "    print(ist_standings)\n",
    "    return ist_standings"
   ],
   "id": "bea067e6f75c5094",
   "outputs": [],
   "execution_count": 5
  },
  {
   "metadata": {
    "ExecuteTime": {
     "end_time": "2024-10-18T20:11:19.848787Z",
     "start_time": "2024-10-18T20:11:19.825380Z"
    }
   },
   "cell_type": "code",
   "source": "fetch_ist_standings(\"2023-24\")",
   "id": "b2e257fe1e2a0a42",
   "outputs": [
    {
     "ename": "NameError",
     "evalue": "name 'Season' is not defined",
     "output_type": "error",
     "traceback": [
      "\u001B[0;31m---------------------------------------------------------------------------\u001B[0m",
      "\u001B[0;31mNameError\u001B[0m                                 Traceback (most recent call last)",
      "Cell \u001B[0;32mIn[6], line 1\u001B[0m\n\u001B[0;32m----> 1\u001B[0m \u001B[43mfetch_ist_standings\u001B[49m\u001B[43m(\u001B[49m\u001B[38;5;124;43m\"\u001B[39;49m\u001B[38;5;124;43m2023-24\u001B[39;49m\u001B[38;5;124;43m\"\u001B[39;49m\u001B[43m)\u001B[49m\n",
      "Cell \u001B[0;32mIn[5], line 6\u001B[0m, in \u001B[0;36mfetch_ist_standings\u001B[0;34m(season)\u001B[0m\n\u001B[1;32m      1\u001B[0m \u001B[38;5;28;01mdef\u001B[39;00m \u001B[38;5;21mfetch_ist_standings\u001B[39m(season):\n\u001B[1;32m      2\u001B[0m \u001B[38;5;250m    \u001B[39m\u001B[38;5;124;03m\"\"\"\u001B[39;00m\n\u001B[1;32m      3\u001B[0m \u001B[38;5;124;03m    Function to fetch and update in season tournament standings\u001B[39;00m\n\u001B[1;32m      4\u001B[0m \u001B[38;5;124;03m    :return:\u001B[39;00m\n\u001B[1;32m      5\u001B[0m \u001B[38;5;124;03m    \"\"\"\u001B[39;00m\n\u001B[0;32m----> 6\u001B[0m     season \u001B[38;5;241m=\u001B[39m \u001B[43mSeason\u001B[49m\u001B[38;5;241m.\u001B[39mobjects\u001B[38;5;241m.\u001B[39mget(slug\u001B[38;5;241m=\u001B[39mseason)  \u001B[38;5;66;03m# Assuming 'name' is the field that stores the season name\u001B[39;00m\n\u001B[1;32m      7\u001B[0m     ist_standings \u001B[38;5;241m=\u001B[39m {}\n\u001B[1;32m      8\u001B[0m     ist \u001B[38;5;241m=\u001B[39m iststandings\u001B[38;5;241m.\u001B[39mISTStandings(season\u001B[38;5;241m=\u001B[39mseason)\u001B[38;5;241m.\u001B[39mget_data_frames()[\u001B[38;5;241m0\u001B[39m]\n",
      "\u001B[0;31mNameError\u001B[0m: name 'Season' is not defined"
     ]
    }
   ],
   "execution_count": 6
  },
  {
   "metadata": {},
   "cell_type": "code",
   "outputs": [],
   "execution_count": null,
   "source": "",
   "id": "fa34fb91cbaa6150"
  }
 ],
 "metadata": {
  "kernelspec": {
   "display_name": "Python 3",
   "language": "python",
   "name": "python3"
  },
  "language_info": {
   "codemirror_mode": {
    "name": "ipython",
    "version": 2
   },
   "file_extension": ".py",
   "mimetype": "text/x-python",
   "name": "python",
   "nbconvert_exporter": "python",
   "pygments_lexer": "ipython2",
   "version": "2.7.6"
  }
 },
 "nbformat": 4,
 "nbformat_minor": 5
}
